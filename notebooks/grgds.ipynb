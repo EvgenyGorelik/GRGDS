{
 "cells": [
  {
   "cell_type": "code",
   "execution_count": 3,
   "metadata": {},
   "outputs": [],
   "source": [
    "import numpy as np\n",
    "import matplotlib.pyplot as plt\n",
    "import pandas as pd\n",
    "from scipy import optimize as optim"
   ]
  },
  {
   "cell_type": "code",
   "execution_count": 4,
   "metadata": {},
   "outputs": [],
   "source": [
    "dataset_1 = np.array(pd.read_csv(\"../data/GRGDS_tilt_1.hkl\"))\n",
    "dataset_2 = np.array(pd.read_csv(\"../data/GRGDS_tilt_3.hkl\"))"
   ]
  },
  {
   "cell_type": "code",
   "execution_count": 5,
   "metadata": {},
   "outputs": [
    {
     "name": "stderr",
     "output_type": "stream",
     "text": [
      "<ipython-input-5-a6d17d53e8d4>:1: DeprecationWarning: `np.int` is a deprecated alias for the builtin `int`. To silence this warning, use `int` by itself. Doing this will not modify any behavior and is safe. When replacing `np.int`, you may wish to use e.g. `np.int64` or `np.int32` to specify the precision. If you wish to review your current use, check the release note link for additional information.\n",
      "Deprecated in NumPy 1.20; for more details and guidance: https://numpy.org/devdocs/release/1.20.0-notes.html#deprecations\n",
      "  dataset_1_hkl = set([tuple(dataset_1[item,:3].astype(np.int)) for item in range(dataset_1.shape[0])])\n",
      "<ipython-input-5-a6d17d53e8d4>:2: DeprecationWarning: `np.int` is a deprecated alias for the builtin `int`. To silence this warning, use `int` by itself. Doing this will not modify any behavior and is safe. When replacing `np.int`, you may wish to use e.g. `np.int64` or `np.int32` to specify the precision. If you wish to review your current use, check the release note link for additional information.\n",
      "Deprecated in NumPy 1.20; for more details and guidance: https://numpy.org/devdocs/release/1.20.0-notes.html#deprecations\n",
      "  dataset_2_hkl = set([tuple(dataset_2[item,:3].astype(np.int)) for item in range(dataset_2.shape[0])])\n"
     ]
    }
   ],
   "source": [
    "dataset_1_hkl = set([tuple(dataset_1[item,:3].astype(np.int)) for item in range(dataset_1.shape[0])])\n",
    "dataset_2_hkl = set([tuple(dataset_2[item,:3].astype(np.int)) for item in range(dataset_2.shape[0])])"
   ]
  },
  {
   "cell_type": "code",
   "execution_count": 6,
   "metadata": {},
   "outputs": [],
   "source": [
    "intersection = list(dataset_1_hkl.intersection(dataset_2_hkl))"
   ]
  },
  {
   "cell_type": "code",
   "execution_count": 7,
   "metadata": {},
   "outputs": [],
   "source": [
    "def find_index_by_hkl(hkl_tuple, dataset):\n",
    "    for i in range(dataset.shape[0]):\n",
    "        if (dataset[i,:3].astype(int) == hkl_tuple).all():\n",
    "            return i"
   ]
  },
  {
   "cell_type": "code",
   "execution_count": 8,
   "metadata": {},
   "outputs": [],
   "source": [
    "dataset_1_index = list()\n",
    "dataset_2_index = list()\n",
    "for hkl_tuple in intersection:\n",
    "    dataset_1_index.append(find_index_by_hkl(hkl_tuple=hkl_tuple, dataset=dataset_1))\n",
    "    dataset_2_index.append(find_index_by_hkl(hkl_tuple=hkl_tuple, dataset=dataset_2))\n",
    "dataset_1_index = np.array(dataset_1_index)\n",
    "dataset_2_index = np.array(dataset_2_index)\n"
   ]
  },
  {
   "cell_type": "code",
   "execution_count": 9,
   "metadata": {},
   "outputs": [
    {
     "data": {
      "image/png": "[encoded data removed]",
      "text/plain": [
       "<Figure size 432x288 with 1 Axes>"
      ]
     },
     "metadata": {
      "needs_background": "light"
     },
     "output_type": "display_data"
    }
   ],
   "source": [
    "plt.scatter(dataset_1[dataset_1_index,3], dataset_2[dataset_2_index, 3])\n",
    "plt.xlabel(\"Intensity (dataset 1)\")\n",
    "plt.ylabel(\"Intensity (dataset 3)\")\n",
    "plt.show()"
   ]
  },
  {
   "cell_type": "code",
   "execution_count": 50,
   "metadata": {},
   "outputs": [],
   "source": [
    "X = dataset_1[dataset_1_index,3] \n",
    "y_hat = dataset_2[dataset_2_index, 3]\n",
    "\n",
    "def func(params):\n",
    "    return np.sum((y_hat - (params[0] + params[1]*X))**2)"
   ]
  },
  {
   "cell_type": "code",
   "execution_count": 51,
   "metadata": {},
   "outputs": [
    {
     "name": "stdout",
     "output_type": "stream",
     "text": [
      "      fun: 55145.51499285833\n",
      " hess_inv: array([[ 1.96961801e-01, -4.06550972e-05],\n",
      "       [-4.06550972e-05,  1.45464581e-08]])\n",
      "      jac: array([0.        , 0.00097656])\n",
      "  message: 'Desired error not necessarily achieved due to precision loss.'\n",
      "     nfev: 119\n",
      "      nit: 3\n",
      "     njev: 36\n",
      "   status: 2\n",
      "  success: False\n",
      "        x: array([1.84845182e+02, 1.58764049e-03])\n"
     ]
    }
   ],
   "source": [
    "result = optim.minimize(method=\"BFGS\", fun=func, x0=np.array([100,0.1]))\n",
    "print(result)"
   ]
  },
  {
   "cell_type": "code",
   "execution_count": 52,
   "metadata": {},
   "outputs": [
    {
     "data": {
      "image/png": "[encoded data removed]",
      "text/plain": [
       "<Figure size 432x288 with 1 Axes>"
      ]
     },
     "metadata": {
      "needs_background": "light"
     },
     "output_type": "display_data"
    }
   ],
   "source": [
    "plt.scatter(X, y_hat)\n",
    "plt.plot(np.linspace(0,max(X),100),result.x[0]+result.x[1]*np.linspace(0,max(X),100))\n",
    "plt.xlabel(\"Intensity (dataset 1)\")\n",
    "plt.ylabel(\"Intensity (dataset 3)\")\n",
    "plt.show()"
   ]
  },
  {
   "cell_type": "code",
   "execution_count": null,
   "metadata": {},
   "outputs": [],
   "source": []
  }
 ],
 "metadata": {
  "kernelspec": {
   "display_name": "Python 3",
   "language": "python",
   "name": "python3"
  },
  "language_info": {
   "codemirror_mode": {
    "name": "ipython",
    "version": 3
   },
   "file_extension": ".py",
   "mimetype": "text/x-python",
   "name": "python",
   "nbconvert_exporter": "python",
   "pygments_lexer": "ipython3",
   "version": "3.9.5"
  },
  "orig_nbformat": 4
 },
 "nbformat": 4,
 "nbformat_minor": 2
}
